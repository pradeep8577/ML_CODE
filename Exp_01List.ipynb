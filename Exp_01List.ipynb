{
 "cells": [
  {
   "cell_type": "code",
   "execution_count": 30,
   "id": "7d1e999b",
   "metadata": {},
   "outputs": [],
   "source": [
    "#Python List"
   ]
  },
  {
   "cell_type": "code",
   "execution_count": 31,
   "id": "41697725",
   "metadata": {},
   "outputs": [
    {
     "name": "stdout",
     "output_type": "stream",
     "text": [
      "Hello World\n"
     ]
    }
   ],
   "source": [
    "print(\"Hello World\")"
   ]
  },
  {
   "cell_type": "code",
   "execution_count": 51,
   "id": "2666f451",
   "metadata": {},
   "outputs": [],
   "source": [
    "list1 = ['physics','chemistry',1997,200]\n",
    "list2 = [1,2,3,4,5]\n",
    "list3 = ['a','b','c','d'];"
   ]
  },
  {
   "cell_type": "code",
   "execution_count": 53,
   "id": "f02dd9f6",
   "metadata": {},
   "outputs": [
    {
     "name": "stdout",
     "output_type": "stream",
     "text": [
      "list1[0]:  physics\n",
      "list2[1:]:  [2, 6, 4, 5]\n",
      "[1, 2, 6, 4, 5]\n",
      "None\n"
     ]
    }
   ],
   "source": [
    "print(\"list1[0]: \",list1[0])\n",
    "print('list2[1:]: ',list2[1:])\n",
    "list2[2]=6\n",
    "print(list2)\n",
    "l2 = list2.reverse()\n",
    "print(l2)"
   ]
  },
  {
   "cell_type": "code",
   "execution_count": 33,
   "id": "fad77a8b",
   "metadata": {},
   "outputs": [],
   "source": [
    "del list2[1]"
   ]
  },
  {
   "cell_type": "code",
   "execution_count": 55,
   "id": "634f5003",
   "metadata": {},
   "outputs": [
    {
     "name": "stdout",
     "output_type": "stream",
     "text": [
      "Using reverse()  [15, 14, 13, 12, 11, 10]\n",
      "Using reversed()  [10, 11, 12, 13, 14, 15]\n"
     ]
    }
   ],
   "source": [
    "lst = [10, 11, 12, 13, 14, 15]\n",
    "lst.reverse()\n",
    "print(\"Using reverse() \", lst)\n",
    " \n",
    "print(\"Using reversed() \", list(reversed(lst)))"
   ]
  },
  {
   "cell_type": "code",
   "execution_count": 34,
   "id": "5140cf95",
   "metadata": {},
   "outputs": [
    {
     "name": "stdout",
     "output_type": "stream",
     "text": [
      "[1, 6, 5]\n"
     ]
    }
   ],
   "source": [
    "print(list2)"
   ]
  },
  {
   "cell_type": "code",
   "execution_count": 35,
   "id": "cbfc2af8",
   "metadata": {},
   "outputs": [],
   "source": [
    "# Python Tuples"
   ]
  },
  {
   "cell_type": "code",
   "execution_count": 36,
   "id": "f6df8373",
   "metadata": {},
   "outputs": [],
   "source": [
    "tuple1 = ('physics','chemistry',1997,2000)\n",
    "tuple2 =(1,2,3,4,5)\n",
    "tuple3 = 'a','b','c','d'\n",
    "tuple4=()\n",
    "tuple5= (50,)"
   ]
  },
  {
   "cell_type": "code",
   "execution_count": 37,
   "id": "06797094",
   "metadata": {},
   "outputs": [
    {
     "name": "stdout",
     "output_type": "stream",
     "text": [
      "tuple1[0]:  physics\n",
      "tuple2[1:]  (2, 3, 4, 5)\n"
     ]
    }
   ],
   "source": [
    "print(\"tuple1[0]: \" ,tuple1[0])\n",
    "print(\"tuple2[1:] \",tuple2[1:])"
   ]
  },
  {
   "cell_type": "code",
   "execution_count": 41,
   "id": "55e2f6ea",
   "metadata": {},
   "outputs": [],
   "source": [
    "del tuple1"
   ]
  },
  {
   "cell_type": "code",
   "execution_count": null,
   "id": "32cacfc7",
   "metadata": {},
   "outputs": [],
   "source": [
    "#Dictionaries"
   ]
  },
  {
   "cell_type": "code",
   "execution_count": 47,
   "id": "576698eb",
   "metadata": {},
   "outputs": [],
   "source": [
    "dict = {'Name':'zara','age':7,'Name':'Manni'}"
   ]
  },
  {
   "cell_type": "code",
   "execution_count": 48,
   "id": "6ec572cf",
   "metadata": {},
   "outputs": [
    {
     "name": "stdout",
     "output_type": "stream",
     "text": [
      "dict['Name']: Manni\n"
     ]
    }
   ],
   "source": [
    "print(\"dict['Name']:\",dict['Name'])"
   ]
  },
  {
   "cell_type": "code",
   "execution_count": null,
   "id": "7147fe52",
   "metadata": {},
   "outputs": [],
   "source": []
  }
 ],
 "metadata": {
  "kernelspec": {
   "display_name": "Python 3 (ipykernel)",
   "language": "python",
   "name": "python3"
  },
  "language_info": {
   "codemirror_mode": {
    "name": "ipython",
    "version": 3
   },
   "file_extension": ".py",
   "mimetype": "text/x-python",
   "name": "python",
   "nbconvert_exporter": "python",
   "pygments_lexer": "ipython3",
   "version": "3.9.12"
  }
 },
 "nbformat": 4,
 "nbformat_minor": 5
}
